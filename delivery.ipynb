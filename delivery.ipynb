{
 "cells": [
  {
   "cell_type": "code",
   "execution_count": 1,
   "metadata": {},
   "outputs": [],
   "source": [
    "import pandas as pd\n",
    "import numpy as np\n",
    "import warnings\n",
    "\n",
    "warnings.filterwarnings(action='ignore')"
   ]
  },
  {
   "cell_type": "code",
   "execution_count": 3,
   "metadata": {},
   "outputs": [],
   "source": [
    "import matplotlib.pyplot as plt\n",
    "import seaborn as sns\n",
    "%matplotlib inline "
   ]
  },
  {
   "cell_type": "code",
   "execution_count": 4,
   "metadata": {},
   "outputs": [],
   "source": [
    "plt.rc('font',family='Malgun Gothic')\n",
    "plt.rc('axes', unicode_minus=False)"
   ]
  },
  {
   "cell_type": "code",
   "execution_count": 5,
   "metadata": {},
   "outputs": [],
   "source": [
    "from IPython.display import set_matplotlib_formats\n",
    "\n",
    "set_matplotlib_formats('retina')"
   ]
  },
  {
   "cell_type": "code",
   "execution_count": 7,
   "metadata": {},
   "outputs": [
    {
     "name": "stdout",
     "output_type": "stream",
     "text": [
      "        1개 파일을 이동했습니다.\n"
     ]
    }
   ],
   "source": [
    "!move C:\\Users\\user\\Downloads\\dacon\\KT-data\\delivery.csv ."
   ]
  },
  {
   "cell_type": "code",
   "execution_count": 8,
   "metadata": {},
   "outputs": [],
   "source": [
    "delivery = pd.read_csv('delivery.csv')"
   ]
  },
  {
   "cell_type": "code",
   "execution_count": 9,
   "metadata": {},
   "outputs": [
    {
     "data": {
      "text/html": [
       "<div>\n",
       "<style scoped>\n",
       "    .dataframe tbody tr th:only-of-type {\n",
       "        vertical-align: middle;\n",
       "    }\n",
       "\n",
       "    .dataframe tbody tr th {\n",
       "        vertical-align: top;\n",
       "    }\n",
       "\n",
       "    .dataframe thead th {\n",
       "        text-align: right;\n",
       "    }\n",
       "</style>\n",
       "<table border=\"1\" class=\"dataframe\">\n",
       "  <thead>\n",
       "    <tr style=\"text-align: right;\">\n",
       "      <th></th>\n",
       "      <th>SERIAL_NUMBER</th>\n",
       "      <th>PROCESS_DT</th>\n",
       "      <th>DLVR_RQESTER_ID</th>\n",
       "      <th>DLVR_REQUST_STTUS_VALUE</th>\n",
       "      <th>DLVR_RCEPT_CMPNY_ID</th>\n",
       "      <th>DLVR_STORE_ID</th>\n",
       "      <th>DLVR_STORE_INDUTY_NM</th>\n",
       "      <th>DLVR_STORE_LEGALDONG_CODE</th>\n",
       "      <th>DLVR_STORE_SIDO</th>\n",
       "      <th>DLVR_STORE_SIGUNGU</th>\n",
       "      <th>...</th>\n",
       "      <th>DLVR_MAN_ID</th>\n",
       "      <th>DLVR_AMOUNT</th>\n",
       "      <th>CALL_RLAY_FEE_AMOUNT</th>\n",
       "      <th>GOODS_AMOUNT</th>\n",
       "      <th>SETLE_KND_VALUE</th>\n",
       "      <th>SETLE_CARD_CN</th>\n",
       "      <th>DLVR_RCEPT_TIME</th>\n",
       "      <th>DLVR_CARALC_TIME</th>\n",
       "      <th>DLVR_COMPT_TIME</th>\n",
       "      <th>DLVR_CANCL_TIME</th>\n",
       "    </tr>\n",
       "  </thead>\n",
       "  <tbody>\n",
       "    <tr>\n",
       "      <th>0</th>\n",
       "      <td>4577985</td>\n",
       "      <td>2020-01-01</td>\n",
       "      <td>C000035</td>\n",
       "      <td>1</td>\n",
       "      <td>C000035</td>\n",
       "      <td>S0032342</td>\n",
       "      <td>치킨</td>\n",
       "      <td>4812710600</td>\n",
       "      <td>경상남도</td>\n",
       "      <td>창원시 마산회원구</td>\n",
       "      <td>...</td>\n",
       "      <td>D0005271</td>\n",
       "      <td>4290</td>\n",
       "      <td>300</td>\n",
       "      <td>25000</td>\n",
       "      <td>1</td>\n",
       "      <td>승인:비씨카드사</td>\n",
       "      <td>2020-01-01 00:15:49</td>\n",
       "      <td>2020-01-01 00:21:38</td>\n",
       "      <td>2020-01-01 00:41:37</td>\n",
       "      <td>NaN</td>\n",
       "    </tr>\n",
       "    <tr>\n",
       "      <th>1</th>\n",
       "      <td>4577986</td>\n",
       "      <td>2020-01-01</td>\n",
       "      <td>C000237</td>\n",
       "      <td>1</td>\n",
       "      <td>C000237</td>\n",
       "      <td>S0021847</td>\n",
       "      <td>찜탕</td>\n",
       "      <td>4121010200</td>\n",
       "      <td>경기도</td>\n",
       "      <td>광명시</td>\n",
       "      <td>...</td>\n",
       "      <td>D0003269</td>\n",
       "      <td>4800</td>\n",
       "      <td>200</td>\n",
       "      <td>49000</td>\n",
       "      <td>2</td>\n",
       "      <td>NaN</td>\n",
       "      <td>2020-01-01 01:12:14</td>\n",
       "      <td>2020-01-01 01:21:41</td>\n",
       "      <td>2020-01-01 01:31:44</td>\n",
       "      <td>NaN</td>\n",
       "    </tr>\n",
       "    <tr>\n",
       "      <th>2</th>\n",
       "      <td>4577988</td>\n",
       "      <td>2020-01-01</td>\n",
       "      <td>C000129</td>\n",
       "      <td>1</td>\n",
       "      <td>C000129</td>\n",
       "      <td>S0025740</td>\n",
       "      <td>치킨</td>\n",
       "      <td>1138010400</td>\n",
       "      <td>서울특별시</td>\n",
       "      <td>은평구</td>\n",
       "      <td>...</td>\n",
       "      <td>D0001536</td>\n",
       "      <td>3300</td>\n",
       "      <td>300</td>\n",
       "      <td>23000</td>\n",
       "      <td>3</td>\n",
       "      <td>승인:</td>\n",
       "      <td>2020-01-01 00:01:14</td>\n",
       "      <td>2020-01-01 00:01:47</td>\n",
       "      <td>2020-01-01 00:18:47</td>\n",
       "      <td>NaN</td>\n",
       "    </tr>\n",
       "    <tr>\n",
       "      <th>3</th>\n",
       "      <td>4577989</td>\n",
       "      <td>2020-01-01</td>\n",
       "      <td>C000029</td>\n",
       "      <td>1</td>\n",
       "      <td>C000043</td>\n",
       "      <td>S0039634</td>\n",
       "      <td>한식</td>\n",
       "      <td>4115010100</td>\n",
       "      <td>경기도</td>\n",
       "      <td>의정부시</td>\n",
       "      <td>...</td>\n",
       "      <td>D0005061</td>\n",
       "      <td>4500</td>\n",
       "      <td>300</td>\n",
       "      <td>20000</td>\n",
       "      <td>2</td>\n",
       "      <td>NaN</td>\n",
       "      <td>2020-01-01 01:01:34</td>\n",
       "      <td>2020-01-01 01:28:06</td>\n",
       "      <td>2020-01-01 01:36:48</td>\n",
       "      <td>NaN</td>\n",
       "    </tr>\n",
       "    <tr>\n",
       "      <th>4</th>\n",
       "      <td>4577991</td>\n",
       "      <td>2020-01-01</td>\n",
       "      <td>C000130</td>\n",
       "      <td>1</td>\n",
       "      <td>C000130</td>\n",
       "      <td>S0002237</td>\n",
       "      <td>한식</td>\n",
       "      <td>4128112800</td>\n",
       "      <td>경기도</td>\n",
       "      <td>고양시 덕양구</td>\n",
       "      <td>...</td>\n",
       "      <td>D0005215</td>\n",
       "      <td>6500</td>\n",
       "      <td>300</td>\n",
       "      <td>32000</td>\n",
       "      <td>2</td>\n",
       "      <td>NaN</td>\n",
       "      <td>2020-01-01 01:05:06</td>\n",
       "      <td>2020-01-01 01:08:01</td>\n",
       "      <td>2020-01-01 01:29:00</td>\n",
       "      <td>NaN</td>\n",
       "    </tr>\n",
       "  </tbody>\n",
       "</table>\n",
       "<p>5 rows × 31 columns</p>\n",
       "</div>"
      ],
      "text/plain": [
       "   SERIAL_NUMBER  PROCESS_DT DLVR_RQESTER_ID  DLVR_REQUST_STTUS_VALUE  \\\n",
       "0        4577985  2020-01-01         C000035                        1   \n",
       "1        4577986  2020-01-01         C000237                        1   \n",
       "2        4577988  2020-01-01         C000129                        1   \n",
       "3        4577989  2020-01-01         C000029                        1   \n",
       "4        4577991  2020-01-01         C000130                        1   \n",
       "\n",
       "  DLVR_RCEPT_CMPNY_ID DLVR_STORE_ID DLVR_STORE_INDUTY_NM  \\\n",
       "0             C000035      S0032342                   치킨   \n",
       "1             C000237      S0021847                   찜탕   \n",
       "2             C000129      S0025740                   치킨   \n",
       "3             C000043      S0039634                   한식   \n",
       "4             C000130      S0002237                   한식   \n",
       "\n",
       "   DLVR_STORE_LEGALDONG_CODE DLVR_STORE_SIDO DLVR_STORE_SIGUNGU  ...  \\\n",
       "0                 4812710600            경상남도          창원시 마산회원구  ...   \n",
       "1                 4121010200             경기도                광명시  ...   \n",
       "2                 1138010400           서울특별시                은평구  ...   \n",
       "3                 4115010100             경기도               의정부시  ...   \n",
       "4                 4128112800             경기도            고양시 덕양구  ...   \n",
       "\n",
       "  DLVR_MAN_ID DLVR_AMOUNT  CALL_RLAY_FEE_AMOUNT  GOODS_AMOUNT  \\\n",
       "0    D0005271        4290                   300         25000   \n",
       "1    D0003269        4800                   200         49000   \n",
       "2    D0001536        3300                   300         23000   \n",
       "3    D0005061        4500                   300         20000   \n",
       "4    D0005215        6500                   300         32000   \n",
       "\n",
       "   SETLE_KND_VALUE SETLE_CARD_CN      DLVR_RCEPT_TIME     DLVR_CARALC_TIME  \\\n",
       "0                1      승인:비씨카드사  2020-01-01 00:15:49  2020-01-01 00:21:38   \n",
       "1                2           NaN  2020-01-01 01:12:14  2020-01-01 01:21:41   \n",
       "2                3           승인:  2020-01-01 00:01:14  2020-01-01 00:01:47   \n",
       "3                2           NaN  2020-01-01 01:01:34  2020-01-01 01:28:06   \n",
       "4                2           NaN  2020-01-01 01:05:06  2020-01-01 01:08:01   \n",
       "\n",
       "       DLVR_COMPT_TIME  DLVR_CANCL_TIME  \n",
       "0  2020-01-01 00:41:37              NaN  \n",
       "1  2020-01-01 01:31:44              NaN  \n",
       "2  2020-01-01 00:18:47              NaN  \n",
       "3  2020-01-01 01:36:48              NaN  \n",
       "4  2020-01-01 01:29:00              NaN  \n",
       "\n",
       "[5 rows x 31 columns]"
      ]
     },
     "execution_count": 9,
     "metadata": {},
     "output_type": "execute_result"
    }
   ],
   "source": [
    "delivery.head()"
   ]
  },
  {
   "cell_type": "code",
   "execution_count": 10,
   "metadata": {},
   "outputs": [
    {
     "data": {
      "image/png": "[encoded data removed]",
      "text/plain": [
       "<Figure size 432x288 with 1 Axes>"
      ]
     },
     "metadata": {
      "image/png": {
       "height": 328,
       "width": 383
      },
      "needs_background": "light"
     },
     "output_type": "display_data"
    }
   ],
   "source": [
    "sns.countplot(x = 'DLVR_STORE_INDUTY_NM', data = delivery)\n",
    "plt.title('배달품목별 총 주문 횟수')\n",
    "plt.xticks(rotation=70)\n",
    "plt.show()"
   ]
  },
  {
   "cell_type": "code",
   "execution_count": 11,
   "metadata": {},
   "outputs": [],
   "source": [
    "from datetime import datetime\n",
    "\n",
    "month = lambda x: datetime.strptime(x, \"%Y-%m-%d\").month\n",
    "\n",
    "delivery[\"month\"] = delivery[\"PROCESS_DT\"].map(month)"
   ]
  },
  {
   "cell_type": "code",
   "execution_count": 12,
   "metadata": {},
   "outputs": [],
   "source": [
    "dg = delivery.groupby([\"month\", \"DLVR_STORE_INDUTY_NM\"]).size().reset_index(name='count')\n",
    "\n",
    "dg = dg[dg['month'] != 6]"
   ]
  },
  {
   "cell_type": "code",
   "execution_count": 15,
   "metadata": {},
   "outputs": [
    {
     "ename": "ValueError",
     "evalue": "Could not interpret input 'count'",
     "output_type": "error",
     "traceback": [
      "\u001b[1;31m---------------------------------------------------------------------------\u001b[0m",
      "\u001b[1;31mValueError\u001b[0m                                Traceback (most recent call last)",
      "\u001b[1;32m<ipython-input-15-d5a1e145f848>\u001b[0m in \u001b[0;36m<module>\u001b[1;34m\u001b[0m\n\u001b[1;32m----> 1\u001b[1;33m \u001b[0msns\u001b[0m\u001b[1;33m.\u001b[0m\u001b[0mrelplot\u001b[0m\u001b[1;33m(\u001b[0m\u001b[0mdata\u001b[0m\u001b[1;33m=\u001b[0m\u001b[0mdelivery\u001b[0m\u001b[1;33m,\u001b[0m \u001b[0mx\u001b[0m\u001b[1;33m=\u001b[0m\u001b[1;34m'month'\u001b[0m\u001b[1;33m,\u001b[0m \u001b[0my\u001b[0m\u001b[1;33m=\u001b[0m\u001b[1;34m'count'\u001b[0m\u001b[1;33m,\u001b[0m \u001b[0mhue\u001b[0m\u001b[1;33m=\u001b[0m\u001b[1;34m'DLVR_STORE_INDUTY_NM'\u001b[0m\u001b[1;33m,\u001b[0m \u001b[0mcol\u001b[0m\u001b[1;33m=\u001b[0m\u001b[1;34m'DLVR_STORE_INDUTY_NM'\u001b[0m\u001b[1;33m,\u001b[0m \u001b[0mcol_wrap\u001b[0m\u001b[1;33m=\u001b[0m\u001b[1;36m4\u001b[0m\u001b[1;33m,\u001b[0m \u001b[0mkind\u001b[0m\u001b[1;33m=\u001b[0m\u001b[1;34m'line'\u001b[0m\u001b[1;33m)\u001b[0m\u001b[1;33m\u001b[0m\u001b[1;33m\u001b[0m\u001b[0m\n\u001b[0m",
      "\u001b[1;32m~\\Anaconda3\\lib\\site-packages\\seaborn\\relational.py\u001b[0m in \u001b[0;36mrelplot\u001b[1;34m(x, y, hue, size, style, data, row, col, col_wrap, row_order, col_order, palette, hue_order, hue_norm, sizes, size_order, size_norm, markers, dashes, style_order, legend, kind, height, aspect, facet_kws, **kwargs)\u001b[0m\n\u001b[0;32m   1658\u001b[0m         \u001b[0msizes\u001b[0m\u001b[1;33m=\u001b[0m\u001b[0msizes\u001b[0m\u001b[1;33m,\u001b[0m \u001b[0msize_order\u001b[0m\u001b[1;33m=\u001b[0m\u001b[0msize_order\u001b[0m\u001b[1;33m,\u001b[0m \u001b[0msize_norm\u001b[0m\u001b[1;33m=\u001b[0m\u001b[0msize_norm\u001b[0m\u001b[1;33m,\u001b[0m\u001b[1;33m\u001b[0m\u001b[1;33m\u001b[0m\u001b[0m\n\u001b[0;32m   1659\u001b[0m         \u001b[0mmarkers\u001b[0m\u001b[1;33m=\u001b[0m\u001b[0mmarkers\u001b[0m\u001b[1;33m,\u001b[0m \u001b[0mdashes\u001b[0m\u001b[1;33m=\u001b[0m\u001b[0mdashes\u001b[0m\u001b[1;33m,\u001b[0m \u001b[0mstyle_order\u001b[0m\u001b[1;33m=\u001b[0m\u001b[0mstyle_order\u001b[0m\u001b[1;33m,\u001b[0m\u001b[1;33m\u001b[0m\u001b[1;33m\u001b[0m\u001b[0m\n\u001b[1;32m-> 1660\u001b[1;33m         \u001b[0mlegend\u001b[0m\u001b[1;33m=\u001b[0m\u001b[0mlegend\u001b[0m\u001b[1;33m,\u001b[0m\u001b[1;33m\u001b[0m\u001b[1;33m\u001b[0m\u001b[0m\n\u001b[0m\u001b[0;32m   1661\u001b[0m     )\n\u001b[0;32m   1662\u001b[0m \u001b[1;33m\u001b[0m\u001b[0m\n",
      "\u001b[1;32m~\\Anaconda3\\lib\\site-packages\\seaborn\\relational.py\u001b[0m in \u001b[0;36m__init__\u001b[1;34m(self, x, y, hue, size, style, data, palette, hue_order, hue_norm, sizes, size_order, size_norm, dashes, markers, style_order, units, estimator, ci, n_boot, seed, sort, err_style, err_kws, legend)\u001b[0m\n\u001b[0;32m    693\u001b[0m \u001b[1;33m\u001b[0m\u001b[0m\n\u001b[0;32m    694\u001b[0m         plot_data = self.establish_variables(\n\u001b[1;32m--> 695\u001b[1;33m             \u001b[0mx\u001b[0m\u001b[1;33m,\u001b[0m \u001b[0my\u001b[0m\u001b[1;33m,\u001b[0m \u001b[0mhue\u001b[0m\u001b[1;33m,\u001b[0m \u001b[0msize\u001b[0m\u001b[1;33m,\u001b[0m \u001b[0mstyle\u001b[0m\u001b[1;33m,\u001b[0m \u001b[0munits\u001b[0m\u001b[1;33m,\u001b[0m \u001b[0mdata\u001b[0m\u001b[1;33m\u001b[0m\u001b[1;33m\u001b[0m\u001b[0m\n\u001b[0m\u001b[0;32m    696\u001b[0m         )\n\u001b[0;32m    697\u001b[0m \u001b[1;33m\u001b[0m\u001b[0m\n",
      "\u001b[1;32m~\\Anaconda3\\lib\\site-packages\\seaborn\\relational.py\u001b[0m in \u001b[0;36mestablish_variables\u001b[1;34m(self, x, y, hue, size, style, units, data)\u001b[0m\n\u001b[0;32m    135\u001b[0m                 \u001b[1;32mif\u001b[0m \u001b[0misinstance\u001b[0m\u001b[1;33m(\u001b[0m\u001b[0mvar\u001b[0m\u001b[1;33m,\u001b[0m \u001b[0mstr\u001b[0m\u001b[1;33m)\u001b[0m\u001b[1;33m:\u001b[0m\u001b[1;33m\u001b[0m\u001b[1;33m\u001b[0m\u001b[0m\n\u001b[0;32m    136\u001b[0m                     \u001b[0merr\u001b[0m \u001b[1;33m=\u001b[0m \u001b[1;34m\"Could not interpret input '{}'\"\u001b[0m\u001b[1;33m.\u001b[0m\u001b[0mformat\u001b[0m\u001b[1;33m(\u001b[0m\u001b[0mvar\u001b[0m\u001b[1;33m)\u001b[0m\u001b[1;33m\u001b[0m\u001b[1;33m\u001b[0m\u001b[0m\n\u001b[1;32m--> 137\u001b[1;33m                     \u001b[1;32mraise\u001b[0m \u001b[0mValueError\u001b[0m\u001b[1;33m(\u001b[0m\u001b[0merr\u001b[0m\u001b[1;33m)\u001b[0m\u001b[1;33m\u001b[0m\u001b[1;33m\u001b[0m\u001b[0m\n\u001b[0m\u001b[0;32m    138\u001b[0m \u001b[1;33m\u001b[0m\u001b[0m\n\u001b[0;32m    139\u001b[0m             \u001b[1;31m# Extract variable names\u001b[0m\u001b[1;33m\u001b[0m\u001b[1;33m\u001b[0m\u001b[1;33m\u001b[0m\u001b[0m\n",
      "\u001b[1;31mValueError\u001b[0m: Could not interpret input 'count'"
     ]
    }
   ],
   "source": [
    "sns.relplot(data=delivery, x='month', y='count', hue='DLVR_STORE_INDUTY_NM', col='DLVR_STORE_INDUTY_NM', col_wrap=4, kind='line')"
   ]
  },
  {
   "cell_type": "code",
   "execution_count": null,
   "metadata": {},
   "outputs": [],
   "source": []
  }
 ],
 "metadata": {
  "kernelspec": {
   "display_name": "Python 3",
   "language": "python",
   "name": "python3"
  },
  "language_info": {
   "codemirror_mode": {
    "name": "ipython",
    "version": 3
   },
   "file_extension": ".py",
   "mimetype": "text/x-python",
   "name": "python",
   "nbconvert_exporter": "python",
   "pygments_lexer": "ipython3",
   "version": "3.7.7"
  },
  "toc": {
   "base_numbering": 1,
   "nav_menu": {},
   "number_sections": true,
   "sideBar": true,
   "skip_h1_title": false,
   "title_cell": "Table of Contents",
   "title_sidebar": "Contents",
   "toc_cell": false,
   "toc_position": {},
   "toc_section_display": true,
   "toc_window_display": true
  }
 },
 "nbformat": 4,
 "nbformat_minor": 4
}
